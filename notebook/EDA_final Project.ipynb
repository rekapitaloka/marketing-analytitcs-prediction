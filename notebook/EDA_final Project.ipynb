{
 "cells": [
  {
   "cell_type": "code",
   "execution_count": 111,
   "metadata": {},
   "outputs": [],
   "source": [
    "import pandas as pd\n",
    "import numpy as np\n",
    "import seaborn as sns\n",
    "import matplotlib.pyplot as plt\n",
    "%matplotlib inline\n",
    "import warnings\n",
    "warnings.filterwarnings(\"ignore\")"
   ]
  },
  {
   "cell_type": "code",
   "execution_count": 112,
   "metadata": {},
   "outputs": [],
   "source": [
    "data = pd.read_csv('marketing_data.csv')"
   ]
  },
  {
   "cell_type": "code",
   "execution_count": 113,
   "metadata": {},
   "outputs": [
    {
     "data": {
      "text/html": [
       "<div>\n",
       "<style scoped>\n",
       "    .dataframe tbody tr th:only-of-type {\n",
       "        vertical-align: middle;\n",
       "    }\n",
       "\n",
       "    .dataframe tbody tr th {\n",
       "        vertical-align: top;\n",
       "    }\n",
       "\n",
       "    .dataframe thead th {\n",
       "        text-align: right;\n",
       "    }\n",
       "</style>\n",
       "<table border=\"1\" class=\"dataframe\">\n",
       "  <thead>\n",
       "    <tr style=\"text-align: right;\">\n",
       "      <th></th>\n",
       "      <th>ID</th>\n",
       "      <th>Year_Birth</th>\n",
       "      <th>Education</th>\n",
       "      <th>Marital_Status</th>\n",
       "      <th>Income</th>\n",
       "      <th>Kidhome</th>\n",
       "      <th>Teenhome</th>\n",
       "      <th>Dt_Customer</th>\n",
       "      <th>Recency</th>\n",
       "      <th>MntWines</th>\n",
       "      <th>...</th>\n",
       "      <th>NumStorePurchases</th>\n",
       "      <th>NumWebVisitsMonth</th>\n",
       "      <th>AcceptedCmp3</th>\n",
       "      <th>AcceptedCmp4</th>\n",
       "      <th>AcceptedCmp5</th>\n",
       "      <th>AcceptedCmp1</th>\n",
       "      <th>AcceptedCmp2</th>\n",
       "      <th>Response</th>\n",
       "      <th>Complain</th>\n",
       "      <th>Country</th>\n",
       "    </tr>\n",
       "  </thead>\n",
       "  <tbody>\n",
       "    <tr>\n",
       "      <th>0</th>\n",
       "      <td>1826</td>\n",
       "      <td>1970</td>\n",
       "      <td>Graduation</td>\n",
       "      <td>Divorced</td>\n",
       "      <td>$84,835.00</td>\n",
       "      <td>0</td>\n",
       "      <td>0</td>\n",
       "      <td>6/16/14</td>\n",
       "      <td>0</td>\n",
       "      <td>189</td>\n",
       "      <td>...</td>\n",
       "      <td>6</td>\n",
       "      <td>1</td>\n",
       "      <td>0</td>\n",
       "      <td>0</td>\n",
       "      <td>0</td>\n",
       "      <td>0</td>\n",
       "      <td>0</td>\n",
       "      <td>1</td>\n",
       "      <td>0</td>\n",
       "      <td>SP</td>\n",
       "    </tr>\n",
       "    <tr>\n",
       "      <th>1</th>\n",
       "      <td>1</td>\n",
       "      <td>1961</td>\n",
       "      <td>Graduation</td>\n",
       "      <td>Single</td>\n",
       "      <td>$57,091.00</td>\n",
       "      <td>0</td>\n",
       "      <td>0</td>\n",
       "      <td>6/15/14</td>\n",
       "      <td>0</td>\n",
       "      <td>464</td>\n",
       "      <td>...</td>\n",
       "      <td>7</td>\n",
       "      <td>5</td>\n",
       "      <td>0</td>\n",
       "      <td>0</td>\n",
       "      <td>0</td>\n",
       "      <td>0</td>\n",
       "      <td>1</td>\n",
       "      <td>1</td>\n",
       "      <td>0</td>\n",
       "      <td>CA</td>\n",
       "    </tr>\n",
       "    <tr>\n",
       "      <th>2</th>\n",
       "      <td>10476</td>\n",
       "      <td>1958</td>\n",
       "      <td>Graduation</td>\n",
       "      <td>Married</td>\n",
       "      <td>$67,267.00</td>\n",
       "      <td>0</td>\n",
       "      <td>1</td>\n",
       "      <td>5/13/14</td>\n",
       "      <td>0</td>\n",
       "      <td>134</td>\n",
       "      <td>...</td>\n",
       "      <td>5</td>\n",
       "      <td>2</td>\n",
       "      <td>0</td>\n",
       "      <td>0</td>\n",
       "      <td>0</td>\n",
       "      <td>0</td>\n",
       "      <td>0</td>\n",
       "      <td>0</td>\n",
       "      <td>0</td>\n",
       "      <td>US</td>\n",
       "    </tr>\n",
       "    <tr>\n",
       "      <th>3</th>\n",
       "      <td>1386</td>\n",
       "      <td>1967</td>\n",
       "      <td>Graduation</td>\n",
       "      <td>Together</td>\n",
       "      <td>$32,474.00</td>\n",
       "      <td>1</td>\n",
       "      <td>1</td>\n",
       "      <td>5/11/14</td>\n",
       "      <td>0</td>\n",
       "      <td>10</td>\n",
       "      <td>...</td>\n",
       "      <td>2</td>\n",
       "      <td>7</td>\n",
       "      <td>0</td>\n",
       "      <td>0</td>\n",
       "      <td>0</td>\n",
       "      <td>0</td>\n",
       "      <td>0</td>\n",
       "      <td>0</td>\n",
       "      <td>0</td>\n",
       "      <td>AUS</td>\n",
       "    </tr>\n",
       "    <tr>\n",
       "      <th>4</th>\n",
       "      <td>5371</td>\n",
       "      <td>1989</td>\n",
       "      <td>Graduation</td>\n",
       "      <td>Single</td>\n",
       "      <td>$21,474.00</td>\n",
       "      <td>1</td>\n",
       "      <td>0</td>\n",
       "      <td>4/8/14</td>\n",
       "      <td>0</td>\n",
       "      <td>6</td>\n",
       "      <td>...</td>\n",
       "      <td>2</td>\n",
       "      <td>7</td>\n",
       "      <td>1</td>\n",
       "      <td>0</td>\n",
       "      <td>0</td>\n",
       "      <td>0</td>\n",
       "      <td>0</td>\n",
       "      <td>1</td>\n",
       "      <td>0</td>\n",
       "      <td>SP</td>\n",
       "    </tr>\n",
       "    <tr>\n",
       "      <th>...</th>\n",
       "      <td>...</td>\n",
       "      <td>...</td>\n",
       "      <td>...</td>\n",
       "      <td>...</td>\n",
       "      <td>...</td>\n",
       "      <td>...</td>\n",
       "      <td>...</td>\n",
       "      <td>...</td>\n",
       "      <td>...</td>\n",
       "      <td>...</td>\n",
       "      <td>...</td>\n",
       "      <td>...</td>\n",
       "      <td>...</td>\n",
       "      <td>...</td>\n",
       "      <td>...</td>\n",
       "      <td>...</td>\n",
       "      <td>...</td>\n",
       "      <td>...</td>\n",
       "      <td>...</td>\n",
       "      <td>...</td>\n",
       "      <td>...</td>\n",
       "    </tr>\n",
       "    <tr>\n",
       "      <th>2235</th>\n",
       "      <td>10142</td>\n",
       "      <td>1976</td>\n",
       "      <td>PhD</td>\n",
       "      <td>Divorced</td>\n",
       "      <td>$66,476.00</td>\n",
       "      <td>0</td>\n",
       "      <td>1</td>\n",
       "      <td>3/7/13</td>\n",
       "      <td>99</td>\n",
       "      <td>372</td>\n",
       "      <td>...</td>\n",
       "      <td>11</td>\n",
       "      <td>4</td>\n",
       "      <td>0</td>\n",
       "      <td>0</td>\n",
       "      <td>0</td>\n",
       "      <td>0</td>\n",
       "      <td>0</td>\n",
       "      <td>0</td>\n",
       "      <td>0</td>\n",
       "      <td>US</td>\n",
       "    </tr>\n",
       "    <tr>\n",
       "      <th>2236</th>\n",
       "      <td>5263</td>\n",
       "      <td>1977</td>\n",
       "      <td>2n Cycle</td>\n",
       "      <td>Married</td>\n",
       "      <td>$31,056.00</td>\n",
       "      <td>1</td>\n",
       "      <td>0</td>\n",
       "      <td>1/22/13</td>\n",
       "      <td>99</td>\n",
       "      <td>5</td>\n",
       "      <td>...</td>\n",
       "      <td>3</td>\n",
       "      <td>8</td>\n",
       "      <td>0</td>\n",
       "      <td>0</td>\n",
       "      <td>0</td>\n",
       "      <td>0</td>\n",
       "      <td>0</td>\n",
       "      <td>0</td>\n",
       "      <td>0</td>\n",
       "      <td>SP</td>\n",
       "    </tr>\n",
       "    <tr>\n",
       "      <th>2237</th>\n",
       "      <td>22</td>\n",
       "      <td>1976</td>\n",
       "      <td>Graduation</td>\n",
       "      <td>Divorced</td>\n",
       "      <td>$46,310.00</td>\n",
       "      <td>1</td>\n",
       "      <td>0</td>\n",
       "      <td>12/3/12</td>\n",
       "      <td>99</td>\n",
       "      <td>185</td>\n",
       "      <td>...</td>\n",
       "      <td>5</td>\n",
       "      <td>8</td>\n",
       "      <td>0</td>\n",
       "      <td>0</td>\n",
       "      <td>0</td>\n",
       "      <td>0</td>\n",
       "      <td>0</td>\n",
       "      <td>0</td>\n",
       "      <td>0</td>\n",
       "      <td>SP</td>\n",
       "    </tr>\n",
       "    <tr>\n",
       "      <th>2238</th>\n",
       "      <td>528</td>\n",
       "      <td>1978</td>\n",
       "      <td>Graduation</td>\n",
       "      <td>Married</td>\n",
       "      <td>$65,819.00</td>\n",
       "      <td>0</td>\n",
       "      <td>0</td>\n",
       "      <td>11/29/12</td>\n",
       "      <td>99</td>\n",
       "      <td>267</td>\n",
       "      <td>...</td>\n",
       "      <td>10</td>\n",
       "      <td>3</td>\n",
       "      <td>0</td>\n",
       "      <td>0</td>\n",
       "      <td>0</td>\n",
       "      <td>0</td>\n",
       "      <td>0</td>\n",
       "      <td>0</td>\n",
       "      <td>0</td>\n",
       "      <td>IND</td>\n",
       "    </tr>\n",
       "    <tr>\n",
       "      <th>2239</th>\n",
       "      <td>4070</td>\n",
       "      <td>1969</td>\n",
       "      <td>PhD</td>\n",
       "      <td>Married</td>\n",
       "      <td>$94,871.00</td>\n",
       "      <td>0</td>\n",
       "      <td>2</td>\n",
       "      <td>9/1/12</td>\n",
       "      <td>99</td>\n",
       "      <td>169</td>\n",
       "      <td>...</td>\n",
       "      <td>4</td>\n",
       "      <td>7</td>\n",
       "      <td>0</td>\n",
       "      <td>1</td>\n",
       "      <td>1</td>\n",
       "      <td>0</td>\n",
       "      <td>0</td>\n",
       "      <td>1</td>\n",
       "      <td>0</td>\n",
       "      <td>CA</td>\n",
       "    </tr>\n",
       "  </tbody>\n",
       "</table>\n",
       "<p>2240 rows × 28 columns</p>\n",
       "</div>"
      ],
      "text/plain": [
       "         ID  Year_Birth   Education Marital_Status      Income   Kidhome  \\\n",
       "0      1826        1970  Graduation       Divorced  $84,835.00         0   \n",
       "1         1        1961  Graduation         Single  $57,091.00         0   \n",
       "2     10476        1958  Graduation        Married  $67,267.00         0   \n",
       "3      1386        1967  Graduation       Together  $32,474.00         1   \n",
       "4      5371        1989  Graduation         Single  $21,474.00         1   \n",
       "...     ...         ...         ...            ...          ...      ...   \n",
       "2235  10142        1976         PhD       Divorced  $66,476.00         0   \n",
       "2236   5263        1977    2n Cycle        Married  $31,056.00         1   \n",
       "2237     22        1976  Graduation       Divorced  $46,310.00         1   \n",
       "2238    528        1978  Graduation        Married  $65,819.00         0   \n",
       "2239   4070        1969         PhD        Married  $94,871.00         0   \n",
       "\n",
       "      Teenhome Dt_Customer  Recency  MntWines  ...  NumStorePurchases  \\\n",
       "0            0     6/16/14        0       189  ...                  6   \n",
       "1            0     6/15/14        0       464  ...                  7   \n",
       "2            1     5/13/14        0       134  ...                  5   \n",
       "3            1     5/11/14        0        10  ...                  2   \n",
       "4            0      4/8/14        0         6  ...                  2   \n",
       "...        ...         ...      ...       ...  ...                ...   \n",
       "2235         1      3/7/13       99       372  ...                 11   \n",
       "2236         0     1/22/13       99         5  ...                  3   \n",
       "2237         0     12/3/12       99       185  ...                  5   \n",
       "2238         0    11/29/12       99       267  ...                 10   \n",
       "2239         2      9/1/12       99       169  ...                  4   \n",
       "\n",
       "      NumWebVisitsMonth  AcceptedCmp3  AcceptedCmp4  AcceptedCmp5  \\\n",
       "0                     1             0             0             0   \n",
       "1                     5             0             0             0   \n",
       "2                     2             0             0             0   \n",
       "3                     7             0             0             0   \n",
       "4                     7             1             0             0   \n",
       "...                 ...           ...           ...           ...   \n",
       "2235                  4             0             0             0   \n",
       "2236                  8             0             0             0   \n",
       "2237                  8             0             0             0   \n",
       "2238                  3             0             0             0   \n",
       "2239                  7             0             1             1   \n",
       "\n",
       "      AcceptedCmp1  AcceptedCmp2  Response  Complain  Country  \n",
       "0                0             0         1         0       SP  \n",
       "1                0             1         1         0       CA  \n",
       "2                0             0         0         0       US  \n",
       "3                0             0         0         0      AUS  \n",
       "4                0             0         1         0       SP  \n",
       "...            ...           ...       ...       ...      ...  \n",
       "2235             0             0         0         0       US  \n",
       "2236             0             0         0         0       SP  \n",
       "2237             0             0         0         0       SP  \n",
       "2238             0             0         0         0      IND  \n",
       "2239             0             0         1         0       CA  \n",
       "\n",
       "[2240 rows x 28 columns]"
      ]
     },
     "execution_count": 113,
     "metadata": {},
     "output_type": "execute_result"
    }
   ],
   "source": [
    "data"
   ]
  },
  {
   "cell_type": "code",
   "execution_count": 114,
   "metadata": {},
   "outputs": [
    {
     "data": {
      "text/plain": [
       "Index(['ID', 'Year_Birth', 'Education', 'Marital_Status', ' Income ',\n",
       "       'Kidhome', 'Teenhome', 'Dt_Customer', 'Recency', 'MntWines',\n",
       "       'MntFruits', 'MntMeatProducts', 'MntFishProducts', 'MntSweetProducts',\n",
       "       'MntGoldProds', 'NumDealsPurchases', 'NumWebPurchases',\n",
       "       'NumCatalogPurchases', 'NumStorePurchases', 'NumWebVisitsMonth',\n",
       "       'AcceptedCmp3', 'AcceptedCmp4', 'AcceptedCmp5', 'AcceptedCmp1',\n",
       "       'AcceptedCmp2', 'Response', 'Complain', 'Country'],\n",
       "      dtype='object')"
      ]
     },
     "execution_count": 114,
     "metadata": {},
     "output_type": "execute_result"
    }
   ],
   "source": [
    "data.columns"
   ]
  },
  {
   "cell_type": "code",
   "execution_count": 115,
   "metadata": {},
   "outputs": [
    {
     "data": {
      "text/html": [
       "<div>\n",
       "<style scoped>\n",
       "    .dataframe tbody tr th:only-of-type {\n",
       "        vertical-align: middle;\n",
       "    }\n",
       "\n",
       "    .dataframe tbody tr th {\n",
       "        vertical-align: top;\n",
       "    }\n",
       "\n",
       "    .dataframe thead th {\n",
       "        text-align: right;\n",
       "    }\n",
       "</style>\n",
       "<table border=\"1\" class=\"dataframe\">\n",
       "  <thead>\n",
       "    <tr style=\"text-align: right;\">\n",
       "      <th></th>\n",
       "      <th>ID</th>\n",
       "      <th>Year_Birth</th>\n",
       "      <th>Kidhome</th>\n",
       "      <th>Teenhome</th>\n",
       "      <th>Recency</th>\n",
       "      <th>MntWines</th>\n",
       "      <th>MntFruits</th>\n",
       "      <th>MntMeatProducts</th>\n",
       "      <th>MntFishProducts</th>\n",
       "      <th>MntSweetProducts</th>\n",
       "      <th>...</th>\n",
       "      <th>NumCatalogPurchases</th>\n",
       "      <th>NumStorePurchases</th>\n",
       "      <th>NumWebVisitsMonth</th>\n",
       "      <th>AcceptedCmp3</th>\n",
       "      <th>AcceptedCmp4</th>\n",
       "      <th>AcceptedCmp5</th>\n",
       "      <th>AcceptedCmp1</th>\n",
       "      <th>AcceptedCmp2</th>\n",
       "      <th>Response</th>\n",
       "      <th>Complain</th>\n",
       "    </tr>\n",
       "  </thead>\n",
       "  <tbody>\n",
       "    <tr>\n",
       "      <th>count</th>\n",
       "      <td>2240.000000</td>\n",
       "      <td>2240.000000</td>\n",
       "      <td>2240.000000</td>\n",
       "      <td>2240.000000</td>\n",
       "      <td>2240.000000</td>\n",
       "      <td>2240.000000</td>\n",
       "      <td>2240.000000</td>\n",
       "      <td>2240.000000</td>\n",
       "      <td>2240.000000</td>\n",
       "      <td>2240.000000</td>\n",
       "      <td>...</td>\n",
       "      <td>2240.000000</td>\n",
       "      <td>2240.000000</td>\n",
       "      <td>2240.000000</td>\n",
       "      <td>2240.000000</td>\n",
       "      <td>2240.000000</td>\n",
       "      <td>2240.000000</td>\n",
       "      <td>2240.000000</td>\n",
       "      <td>2240.000000</td>\n",
       "      <td>2240.000000</td>\n",
       "      <td>2240.000000</td>\n",
       "    </tr>\n",
       "    <tr>\n",
       "      <th>mean</th>\n",
       "      <td>5592.159821</td>\n",
       "      <td>1968.805804</td>\n",
       "      <td>0.444196</td>\n",
       "      <td>0.506250</td>\n",
       "      <td>49.109375</td>\n",
       "      <td>303.935714</td>\n",
       "      <td>26.302232</td>\n",
       "      <td>166.950000</td>\n",
       "      <td>37.525446</td>\n",
       "      <td>27.062946</td>\n",
       "      <td>...</td>\n",
       "      <td>2.662054</td>\n",
       "      <td>5.790179</td>\n",
       "      <td>5.316518</td>\n",
       "      <td>0.072768</td>\n",
       "      <td>0.074554</td>\n",
       "      <td>0.072768</td>\n",
       "      <td>0.064286</td>\n",
       "      <td>0.013393</td>\n",
       "      <td>0.149107</td>\n",
       "      <td>0.009375</td>\n",
       "    </tr>\n",
       "    <tr>\n",
       "      <th>std</th>\n",
       "      <td>3246.662198</td>\n",
       "      <td>11.984069</td>\n",
       "      <td>0.538398</td>\n",
       "      <td>0.544538</td>\n",
       "      <td>28.962453</td>\n",
       "      <td>336.597393</td>\n",
       "      <td>39.773434</td>\n",
       "      <td>225.715373</td>\n",
       "      <td>54.628979</td>\n",
       "      <td>41.280498</td>\n",
       "      <td>...</td>\n",
       "      <td>2.923101</td>\n",
       "      <td>3.250958</td>\n",
       "      <td>2.426645</td>\n",
       "      <td>0.259813</td>\n",
       "      <td>0.262728</td>\n",
       "      <td>0.259813</td>\n",
       "      <td>0.245316</td>\n",
       "      <td>0.114976</td>\n",
       "      <td>0.356274</td>\n",
       "      <td>0.096391</td>\n",
       "    </tr>\n",
       "    <tr>\n",
       "      <th>min</th>\n",
       "      <td>0.000000</td>\n",
       "      <td>1893.000000</td>\n",
       "      <td>0.000000</td>\n",
       "      <td>0.000000</td>\n",
       "      <td>0.000000</td>\n",
       "      <td>0.000000</td>\n",
       "      <td>0.000000</td>\n",
       "      <td>0.000000</td>\n",
       "      <td>0.000000</td>\n",
       "      <td>0.000000</td>\n",
       "      <td>...</td>\n",
       "      <td>0.000000</td>\n",
       "      <td>0.000000</td>\n",
       "      <td>0.000000</td>\n",
       "      <td>0.000000</td>\n",
       "      <td>0.000000</td>\n",
       "      <td>0.000000</td>\n",
       "      <td>0.000000</td>\n",
       "      <td>0.000000</td>\n",
       "      <td>0.000000</td>\n",
       "      <td>0.000000</td>\n",
       "    </tr>\n",
       "    <tr>\n",
       "      <th>25%</th>\n",
       "      <td>2828.250000</td>\n",
       "      <td>1959.000000</td>\n",
       "      <td>0.000000</td>\n",
       "      <td>0.000000</td>\n",
       "      <td>24.000000</td>\n",
       "      <td>23.750000</td>\n",
       "      <td>1.000000</td>\n",
       "      <td>16.000000</td>\n",
       "      <td>3.000000</td>\n",
       "      <td>1.000000</td>\n",
       "      <td>...</td>\n",
       "      <td>0.000000</td>\n",
       "      <td>3.000000</td>\n",
       "      <td>3.000000</td>\n",
       "      <td>0.000000</td>\n",
       "      <td>0.000000</td>\n",
       "      <td>0.000000</td>\n",
       "      <td>0.000000</td>\n",
       "      <td>0.000000</td>\n",
       "      <td>0.000000</td>\n",
       "      <td>0.000000</td>\n",
       "    </tr>\n",
       "    <tr>\n",
       "      <th>50%</th>\n",
       "      <td>5458.500000</td>\n",
       "      <td>1970.000000</td>\n",
       "      <td>0.000000</td>\n",
       "      <td>0.000000</td>\n",
       "      <td>49.000000</td>\n",
       "      <td>173.500000</td>\n",
       "      <td>8.000000</td>\n",
       "      <td>67.000000</td>\n",
       "      <td>12.000000</td>\n",
       "      <td>8.000000</td>\n",
       "      <td>...</td>\n",
       "      <td>2.000000</td>\n",
       "      <td>5.000000</td>\n",
       "      <td>6.000000</td>\n",
       "      <td>0.000000</td>\n",
       "      <td>0.000000</td>\n",
       "      <td>0.000000</td>\n",
       "      <td>0.000000</td>\n",
       "      <td>0.000000</td>\n",
       "      <td>0.000000</td>\n",
       "      <td>0.000000</td>\n",
       "    </tr>\n",
       "    <tr>\n",
       "      <th>75%</th>\n",
       "      <td>8427.750000</td>\n",
       "      <td>1977.000000</td>\n",
       "      <td>1.000000</td>\n",
       "      <td>1.000000</td>\n",
       "      <td>74.000000</td>\n",
       "      <td>504.250000</td>\n",
       "      <td>33.000000</td>\n",
       "      <td>232.000000</td>\n",
       "      <td>50.000000</td>\n",
       "      <td>33.000000</td>\n",
       "      <td>...</td>\n",
       "      <td>4.000000</td>\n",
       "      <td>8.000000</td>\n",
       "      <td>7.000000</td>\n",
       "      <td>0.000000</td>\n",
       "      <td>0.000000</td>\n",
       "      <td>0.000000</td>\n",
       "      <td>0.000000</td>\n",
       "      <td>0.000000</td>\n",
       "      <td>0.000000</td>\n",
       "      <td>0.000000</td>\n",
       "    </tr>\n",
       "    <tr>\n",
       "      <th>max</th>\n",
       "      <td>11191.000000</td>\n",
       "      <td>1996.000000</td>\n",
       "      <td>2.000000</td>\n",
       "      <td>2.000000</td>\n",
       "      <td>99.000000</td>\n",
       "      <td>1493.000000</td>\n",
       "      <td>199.000000</td>\n",
       "      <td>1725.000000</td>\n",
       "      <td>259.000000</td>\n",
       "      <td>263.000000</td>\n",
       "      <td>...</td>\n",
       "      <td>28.000000</td>\n",
       "      <td>13.000000</td>\n",
       "      <td>20.000000</td>\n",
       "      <td>1.000000</td>\n",
       "      <td>1.000000</td>\n",
       "      <td>1.000000</td>\n",
       "      <td>1.000000</td>\n",
       "      <td>1.000000</td>\n",
       "      <td>1.000000</td>\n",
       "      <td>1.000000</td>\n",
       "    </tr>\n",
       "  </tbody>\n",
       "</table>\n",
       "<p>8 rows × 23 columns</p>\n",
       "</div>"
      ],
      "text/plain": [
       "                 ID   Year_Birth      Kidhome     Teenhome      Recency  \\\n",
       "count   2240.000000  2240.000000  2240.000000  2240.000000  2240.000000   \n",
       "mean    5592.159821  1968.805804     0.444196     0.506250    49.109375   \n",
       "std     3246.662198    11.984069     0.538398     0.544538    28.962453   \n",
       "min        0.000000  1893.000000     0.000000     0.000000     0.000000   \n",
       "25%     2828.250000  1959.000000     0.000000     0.000000    24.000000   \n",
       "50%     5458.500000  1970.000000     0.000000     0.000000    49.000000   \n",
       "75%     8427.750000  1977.000000     1.000000     1.000000    74.000000   \n",
       "max    11191.000000  1996.000000     2.000000     2.000000    99.000000   \n",
       "\n",
       "          MntWines    MntFruits  MntMeatProducts  MntFishProducts  \\\n",
       "count  2240.000000  2240.000000      2240.000000      2240.000000   \n",
       "mean    303.935714    26.302232       166.950000        37.525446   \n",
       "std     336.597393    39.773434       225.715373        54.628979   \n",
       "min       0.000000     0.000000         0.000000         0.000000   \n",
       "25%      23.750000     1.000000        16.000000         3.000000   \n",
       "50%     173.500000     8.000000        67.000000        12.000000   \n",
       "75%     504.250000    33.000000       232.000000        50.000000   \n",
       "max    1493.000000   199.000000      1725.000000       259.000000   \n",
       "\n",
       "       MntSweetProducts  ...  NumCatalogPurchases  NumStorePurchases  \\\n",
       "count       2240.000000  ...          2240.000000        2240.000000   \n",
       "mean          27.062946  ...             2.662054           5.790179   \n",
       "std           41.280498  ...             2.923101           3.250958   \n",
       "min            0.000000  ...             0.000000           0.000000   \n",
       "25%            1.000000  ...             0.000000           3.000000   \n",
       "50%            8.000000  ...             2.000000           5.000000   \n",
       "75%           33.000000  ...             4.000000           8.000000   \n",
       "max          263.000000  ...            28.000000          13.000000   \n",
       "\n",
       "       NumWebVisitsMonth  AcceptedCmp3  AcceptedCmp4  AcceptedCmp5  \\\n",
       "count        2240.000000   2240.000000   2240.000000   2240.000000   \n",
       "mean            5.316518      0.072768      0.074554      0.072768   \n",
       "std             2.426645      0.259813      0.262728      0.259813   \n",
       "min             0.000000      0.000000      0.000000      0.000000   \n",
       "25%             3.000000      0.000000      0.000000      0.000000   \n",
       "50%             6.000000      0.000000      0.000000      0.000000   \n",
       "75%             7.000000      0.000000      0.000000      0.000000   \n",
       "max            20.000000      1.000000      1.000000      1.000000   \n",
       "\n",
       "       AcceptedCmp1  AcceptedCmp2     Response     Complain  \n",
       "count   2240.000000   2240.000000  2240.000000  2240.000000  \n",
       "mean       0.064286      0.013393     0.149107     0.009375  \n",
       "std        0.245316      0.114976     0.356274     0.096391  \n",
       "min        0.000000      0.000000     0.000000     0.000000  \n",
       "25%        0.000000      0.000000     0.000000     0.000000  \n",
       "50%        0.000000      0.000000     0.000000     0.000000  \n",
       "75%        0.000000      0.000000     0.000000     0.000000  \n",
       "max        1.000000      1.000000     1.000000     1.000000  \n",
       "\n",
       "[8 rows x 23 columns]"
      ]
     },
     "execution_count": 115,
     "metadata": {},
     "output_type": "execute_result"
    }
   ],
   "source": [
    "data.describe()"
   ]
  },
  {
   "cell_type": "code",
   "execution_count": 116,
   "metadata": {},
   "outputs": [],
   "source": [
    "data.rename(columns={' Income ':'Income'},inplace=True)"
   ]
  },
  {
   "cell_type": "code",
   "execution_count": 117,
   "metadata": {},
   "outputs": [],
   "source": [
    "data['Income']=data['Income'].str.replace('[$,]','').astype(float)"
   ]
  },
  {
   "cell_type": "markdown",
   "metadata": {},
   "source": [
    "# Campaign"
   ]
  },
  {
   "cell_type": "code",
   "execution_count": 118,
   "metadata": {},
   "outputs": [
    {
     "data": {
      "image/png": "[encoded data removed]",
      "text/plain": [
       "<Figure size 432x288 with 1 Axes>"
      ]
     },
     "metadata": {
      "needs_background": "light"
     },
     "output_type": "display_data"
    }
   ],
   "source": [
    "#campaign tersucses\n",
    "campaign = data.loc[:,['Response','AcceptedCmp1','AcceptedCmp2','AcceptedCmp3','AcceptedCmp4','AcceptedCmp5']]\n",
    "\n",
    "campaign = campaign.melt()\n",
    "campaign = pd.crosstab(campaign[\"variable\"], campaign[\"value\"]).sort_values(0)\n",
    "\n",
    "cols = list(campaign.columns)\n",
    "a, b = cols.index(0), cols.index(1)\n",
    "cols[b], cols[a] = cols[a], cols[b]\n",
    "campaign = campaign[cols]\n",
    "\n",
    "campaign.columns = \"Yes\",\"No\"\n",
    "campaign.plot.bar(stacked=True)\n",
    "plt.title('Acceptance of Marketing Campaigns')\n",
    "plt.xlabel('Campaign')\n",
    "plt.ylabel('Acceptance')\n",
    "plt.legend(title='Response',loc='upper right')\n",
    "plt.savefig('Campaign.png')\n",
    "plt.show()\n"
   ]
  },
  {
   "cell_type": "markdown",
   "metadata": {},
   "source": [
    "**Campaign Recommendations**\n",
    "\n",
    "Berdasarkan visualisasi diatas, campaign tersukses adalah campaign terakhir (campaign pada column response) karena berhasil meningkatkan respon/penjualan dibandingkan campaign-campaign sebelumnya.\n",
    "Hal ini bisa digunakan sebagai bahan evaluasi untuk memilih metode campaign selanjutnya"
   ]
  },
  {
   "cell_type": "markdown",
   "metadata": {},
   "source": [
    "# Product"
   ]
  },
  {
   "cell_type": "code",
   "execution_count": 119,
   "metadata": {},
   "outputs": [
    {
     "data": {
      "image/png": "[encoded data removed]",
      "text/plain": [
       "<Figure size 432x288 with 1 Axes>"
      ]
     },
     "metadata": {
      "needs_background": "light"
     },
     "output_type": "display_data"
    }
   ],
   "source": [
    "products = data.loc[:,['MntWines','MntFruits','MntMeatProducts','MntFishProducts','MntSweetProducts','MntGoldProds']]\n",
    "products = products.sum().sort_values(ascending=False)\n",
    "\n",
    "plt.bar(products.index,products)\n",
    "plt.xticks(rotation=90)\n",
    "plt.title('Product Performance in last 2 years')\n",
    "plt.xlabel('Product Category')\n",
    "plt.ylabel('Number Sold')\n",
    "plt.savefig('Product.jpeg')\n",
    "plt.show()\n"
   ]
  },
  {
   "cell_type": "code",
   "execution_count": 122,
   "metadata": {},
   "outputs": [
    {
     "name": "stdout",
     "output_type": "stream",
     "text": [
      "              MntWines  MntFruits  MntMeatProducts  MntFishProducts  \\\n",
      "Education                                                             \n",
      "2n Cycle    198.182266  28.955665       141.256158        47.482759   \n",
      "Basic         7.240741  11.111111        11.444444        17.055556   \n",
      "Graduation  284.268855  30.774623       179.488909        43.149956   \n",
      "Master      333.075676  21.654054       163.378378        32.100000   \n",
      "PhD         404.495885  20.049383       168.602881        26.728395   \n",
      "\n",
      "            MntSweetProducts  MntGoldProds  \n",
      "Education                                   \n",
      "2n Cycle           34.251232     46.399015  \n",
      "Basic              12.111111     22.833333  \n",
      "Graduation         31.367347     50.849157  \n",
      "Master             21.175676     40.397297  \n",
      "PhD                20.222222     32.310700   \n",
      "\n",
      "                  MntWines  MntFruits  MntMeatProducts  MntFishProducts  \\\n",
      "Marital_Status                                                            \n",
      "Absurd          355.500000  84.500000       312.500000       205.500000   \n",
      "Alone           184.666667   4.000000        26.333333         7.666667   \n",
      "Divorced        324.844828  27.426724       150.206897        35.043103   \n",
      "Married         299.480324  25.734954       160.681713        35.380787   \n",
      "Single          288.331250  26.835417       182.108333        38.216667   \n",
      "Together        306.825862  25.350000       168.103448        38.991379   \n",
      "Widow           369.272727  33.090909       189.285714        51.389610   \n",
      "YOLO            322.000000   3.000000        50.000000         4.000000   \n",
      "\n",
      "                MntSweetProducts  MntGoldProds  \n",
      "Marital_Status                                  \n",
      "Absurd                 30.500000    204.000000  \n",
      "Alone                   7.000000     27.000000  \n",
      "Divorced               26.818966     46.288793  \n",
      "Married                26.701389     42.822917  \n",
      "Single                 27.262500     43.729167  \n",
      "Together               26.122414     42.994828  \n",
      "Widow                  39.012987     56.766234  \n",
      "YOLO                    3.000000     42.000000   \n",
      "\n"
     ]
    }
   ],
   "source": [
    "for i in data[['Education','Marital_Status']]:\n",
    "    a = data.groupby([i]).mean()[['MntWines','MntFruits','MntMeatProducts','MntFishProducts','MntSweetProducts','MntGoldProds']]\n",
    "    print (a,'\\n')"
   ]
  },
  {
   "cell_type": "code",
   "execution_count": 123,
   "metadata": {},
   "outputs": [
    {
     "data": {
      "text/html": [
       "<div>\n",
       "<style scoped>\n",
       "    .dataframe tbody tr th:only-of-type {\n",
       "        vertical-align: middle;\n",
       "    }\n",
       "\n",
       "    .dataframe tbody tr th {\n",
       "        vertical-align: top;\n",
       "    }\n",
       "\n",
       "    .dataframe thead th {\n",
       "        text-align: right;\n",
       "    }\n",
       "</style>\n",
       "<table border=\"1\" class=\"dataframe\">\n",
       "  <thead>\n",
       "    <tr style=\"text-align: right;\">\n",
       "      <th></th>\n",
       "      <th>MntWines</th>\n",
       "      <th>MntFruits</th>\n",
       "      <th>MntMeatProducts</th>\n",
       "      <th>MntFishProducts</th>\n",
       "      <th>MntSweetProducts</th>\n",
       "      <th>MntGoldProds</th>\n",
       "    </tr>\n",
       "    <tr>\n",
       "      <th>Response</th>\n",
       "      <th></th>\n",
       "      <th></th>\n",
       "      <th></th>\n",
       "      <th></th>\n",
       "      <th></th>\n",
       "      <th></th>\n",
       "    </tr>\n",
       "  </thead>\n",
       "  <tbody>\n",
       "    <tr>\n",
       "      <th>0</th>\n",
       "      <td>269.104407</td>\n",
       "      <td>24.216684</td>\n",
       "      <td>144.624344</td>\n",
       "      <td>34.980063</td>\n",
       "      <td>25.035152</td>\n",
       "      <td>40.968520</td>\n",
       "    </tr>\n",
       "    <tr>\n",
       "      <th>1</th>\n",
       "      <td>502.703593</td>\n",
       "      <td>38.203593</td>\n",
       "      <td>294.353293</td>\n",
       "      <td>52.050898</td>\n",
       "      <td>38.634731</td>\n",
       "      <td>61.446108</td>\n",
       "    </tr>\n",
       "  </tbody>\n",
       "</table>\n",
       "</div>"
      ],
      "text/plain": [
       "            MntWines  MntFruits  MntMeatProducts  MntFishProducts  \\\n",
       "Response                                                            \n",
       "0         269.104407  24.216684       144.624344        34.980063   \n",
       "1         502.703593  38.203593       294.353293        52.050898   \n",
       "\n",
       "          MntSweetProducts  MntGoldProds  \n",
       "Response                                  \n",
       "0                25.035152     40.968520  \n",
       "1                38.634731     61.446108  "
      ]
     },
     "execution_count": 123,
     "metadata": {},
     "output_type": "execute_result"
    }
   ],
   "source": [
    "a = data.groupby('Response').mean()[['MntWines','MntFruits','MntMeatProducts','MntFishProducts','MntSweetProducts','MntGoldProds']]"
   ]
  },
  {
   "cell_type": "markdown",
   "metadata": {},
   "source": [
    "**Product Recommendations:**\n",
    "\n",
    "penjualan product paling banyak adalah wine, dimana customer yang paling berminat pada wine adalah Customer dengan Gelar PhD dan berstatus widow. hal ini bisa disebabkan karena orang dengan gelar Phd serta orang dengan status widow memiliki tekanan hidup yang besar baik dari sisi pekerjaan maupun status sosial yang tinggi, maka mereka memilih untuk mengkonsumsi wine pada saat ingin menenangkan pikiran.\n",
    "\n",
    "Sedangkan untuk product buah sangat rendah grafik penjualannya karena yang berminat hanya orang-orang dengan gelar graduation dan status absurd. Strategi Campaign buah sebaiknya dievaluasi dan diperbaiki, bisa digunakan campaign dengan memberikan edukasi mengenai manfaat dan pentingnya konsumsi buah-buahan.\n",
    "\n",
    "Dan Costumer yang merespon campaign cenderung tertarik dengan product wine, daging dan emas"
   ]
  },
  {
   "cell_type": "markdown",
   "metadata": {},
   "source": [
    "# Channel Performance"
   ]
  },
  {
   "cell_type": "code",
   "execution_count": 58,
   "metadata": {},
   "outputs": [
    {
     "data": {
      "image/png": "[encoded data removed]",
      "text/plain": [
       "<Figure size 432x288 with 1 Axes>"
      ]
     },
     "metadata": {
      "needs_background": "light"
     },
     "output_type": "display_data"
    }
   ],
   "source": [
    "channels = data.loc[:,['NumDealsPurchases','NumWebPurchases','NumCatalogPurchases','NumStorePurchases']]\n",
    "channels = channels.sum().sort_values(ascending=False)\n",
    "\n",
    "plt.bar(channels.index,channels)\n",
    "plt.xticks(rotation=90)\n",
    "plt.title('Channel Performance in last 2 years')\n",
    "plt.xlabel('Channel')\n",
    "plt.ylabel('Number of Products Sold')\n",
    "plt.savefig('Channel Peformance.png')\n",
    "plt.show()\n"
   ]
  },
  {
   "cell_type": "markdown",
   "metadata": {},
   "source": [
    "**Channel Recommendations:**\n",
    "\n",
    "Channel Recomendation yang paling berpengaruh untuk penjualan selama 2 tahun terakhir adalah Store Offline. Jadi banyak customer yang memilih datang langsung ke store untuk pembelian product dibandingkan online store(Web dan Catalogue)\n",
    "Untuk Online Store Catalog memiliki tingkat penjualan paling rendah dibandingkan web, hal ini bisa digunakan sebagai bahan evaluasi, mengapa customer kurang tertarik pada catalogue.\n",
    "Dan customer yang membeli product dengan discount berjumlah paling rendah, hal ini mungkin disebabkan karena jangka waktu discount yang diberikan terlalu singkat atau discount diberikan pada product yang memang kurang dibutuhkan. \n",
    "\n",
    "\n"
   ]
  },
  {
   "cell_type": "markdown",
   "metadata": {},
   "source": [
    "# Profile Customer"
   ]
  },
  {
   "cell_type": "code",
   "execution_count": 140,
   "metadata": {},
   "outputs": [],
   "source": [
    "data['Label_age']=data['Customer_Age'].astype(int)"
   ]
  },
  {
   "cell_type": "code",
   "execution_count": 127,
   "metadata": {},
   "outputs": [
    {
     "data": {
      "text/plain": [
       "Text(0, 0.5, 'Frekuensi')"
      ]
     },
     "execution_count": 127,
     "metadata": {},
     "output_type": "execute_result"
    },
    {
     "data": {
      "image/png": "[encoded data removed]",
      "text/plain": [
       "<Figure size 720x720 with 1 Axes>"
      ]
     },
     "metadata": {
      "needs_background": "light"
     },
     "output_type": "display_data"
    }
   ],
   "source": [
    "data['Dt_Customer'] = pd.to_datetime(data['Dt_Customer'])\n",
    "data['Customer_Age'] = data['Dt_Customer'].dt.year - data['Year_Birth']\n",
    "\n",
    "plt.figure(figsize=(10,10))\n",
    "sns.distplot(data['Customer_Age'], kde = True , bins = 20, color ='red')\n",
    "plt.title('Histogram Distribution of Customer Age', size = 20)\n",
    "plt.xlabel(\"Customer_Age\", size = 10, color ='red')\n",
    "plt.ylabel('Frekuensi', size = 10, color ='red')"
   ]
  },
  {
   "cell_type": "code",
   "execution_count": 155,
   "metadata": {},
   "outputs": [],
   "source": [
    "def labelumur(umur):\n",
    "    if umur >= 0 and umur <= 7:\n",
    "        return ' Post Gen Z'\n",
    "    elif umur >=8 and umur <=23 :\n",
    "        return 'Gen Z'\n",
    "    elif umur >=24 and umur <= 36 :\n",
    "        return 'Milenial'\n",
    "    elif umur >=40 and umur <= 55 :\n",
    "        return 'Gen X'\n",
    "    elif umur >=56 and umur <= 74 :\n",
    "        return 'Baby Boomer'\n",
    "    else :\n",
    "        return 'Pre-Boomer'"
   ]
  },
  {
   "cell_type": "code",
   "execution_count": 156,
   "metadata": {},
   "outputs": [],
   "source": [
    "data['label_Age']=data['Customer_Age'].apply(labelumur)"
   ]
  },
  {
   "cell_type": "code",
   "execution_count": 166,
   "metadata": {},
   "outputs": [
    {
     "data": {
      "text/html": [
       "<div>\n",
       "<style scoped>\n",
       "    .dataframe tbody tr th:only-of-type {\n",
       "        vertical-align: middle;\n",
       "    }\n",
       "\n",
       "    .dataframe tbody tr th {\n",
       "        vertical-align: top;\n",
       "    }\n",
       "\n",
       "    .dataframe thead th {\n",
       "        text-align: right;\n",
       "    }\n",
       "</style>\n",
       "<table border=\"1\" class=\"dataframe\">\n",
       "  <thead>\n",
       "    <tr style=\"text-align: right;\">\n",
       "      <th></th>\n",
       "      <th>MntWines</th>\n",
       "      <th>MntFruits</th>\n",
       "      <th>MntMeatProducts</th>\n",
       "      <th>MntFishProducts</th>\n",
       "      <th>MntSweetProducts</th>\n",
       "      <th>MntGoldProds</th>\n",
       "    </tr>\n",
       "    <tr>\n",
       "      <th>label_Age</th>\n",
       "      <th></th>\n",
       "      <th></th>\n",
       "      <th></th>\n",
       "      <th></th>\n",
       "      <th></th>\n",
       "      <th></th>\n",
       "    </tr>\n",
       "  </thead>\n",
       "  <tbody>\n",
       "    <tr>\n",
       "      <th>Baby Boomer</th>\n",
       "      <td>381.735931</td>\n",
       "      <td>26.926407</td>\n",
       "      <td>191.718615</td>\n",
       "      <td>43.694805</td>\n",
       "      <td>29.229437</td>\n",
       "      <td>50.069264</td>\n",
       "    </tr>\n",
       "    <tr>\n",
       "      <th>Gen X</th>\n",
       "      <td>316.481283</td>\n",
       "      <td>26.044920</td>\n",
       "      <td>160.341176</td>\n",
       "      <td>35.371123</td>\n",
       "      <td>26.177540</td>\n",
       "      <td>43.462032</td>\n",
       "    </tr>\n",
       "    <tr>\n",
       "      <th>Gen Z</th>\n",
       "      <td>317.123077</td>\n",
       "      <td>36.969231</td>\n",
       "      <td>278.107692</td>\n",
       "      <td>51.661538</td>\n",
       "      <td>34.092308</td>\n",
       "      <td>59.507692</td>\n",
       "    </tr>\n",
       "    <tr>\n",
       "      <th>Milenial</th>\n",
       "      <td>234.828467</td>\n",
       "      <td>26.098540</td>\n",
       "      <td>163.826642</td>\n",
       "      <td>35.596715</td>\n",
       "      <td>27.412409</td>\n",
       "      <td>40.332117</td>\n",
       "    </tr>\n",
       "    <tr>\n",
       "      <th>Pre-Boomer</th>\n",
       "      <td>257.586957</td>\n",
       "      <td>23.565217</td>\n",
       "      <td>120.091304</td>\n",
       "      <td>34.491304</td>\n",
       "      <td>23.491304</td>\n",
       "      <td>38.565217</td>\n",
       "    </tr>\n",
       "  </tbody>\n",
       "</table>\n",
       "</div>"
      ],
      "text/plain": [
       "               MntWines  MntFruits  MntMeatProducts  MntFishProducts  \\\n",
       "label_Age                                                              \n",
       "Baby Boomer  381.735931  26.926407       191.718615        43.694805   \n",
       "Gen X        316.481283  26.044920       160.341176        35.371123   \n",
       "Gen Z        317.123077  36.969231       278.107692        51.661538   \n",
       "Milenial     234.828467  26.098540       163.826642        35.596715   \n",
       "Pre-Boomer   257.586957  23.565217       120.091304        34.491304   \n",
       "\n",
       "             MntSweetProducts  MntGoldProds  \n",
       "label_Age                                    \n",
       "Baby Boomer         29.229437     50.069264  \n",
       "Gen X               26.177540     43.462032  \n",
       "Gen Z               34.092308     59.507692  \n",
       "Milenial            27.412409     40.332117  \n",
       "Pre-Boomer          23.491304     38.565217  "
      ]
     },
     "execution_count": 166,
     "metadata": {},
     "output_type": "execute_result"
    }
   ],
   "source": [
    "data.groupby('label_Age').mean()[['MntWines','MntFruits','MntMeatProducts','MntFishProducts','MntSweetProducts','MntGoldProds']]"
   ]
  },
  {
   "cell_type": "markdown",
   "metadata": {},
   "source": [
    "*Gen Z memiliki minat paling tinggi pada product dg penjualan rendah(Buah, Snack, dan Fish)*"
   ]
  },
  {
   "cell_type": "code",
   "execution_count": 179,
   "metadata": {},
   "outputs": [],
   "source": [
    "def plot_bar(column):\n",
    "    # temp df \n",
    "    temp_1 = pd.DataFrame()\n",
    "    # count categorical values\n",
    "    temp_1['no'] = data[data['Response'] == 0.0][column].value_counts()\n",
    "    temp_1['yes'] = data[data['Response'] == 1.0][column].value_counts()\n",
    "    temp_1.plot(kind='bar')\n",
    "    plt.xlabel(f'{column}')\n",
    "    plt.ylabel('number of people')\n",
    "    plt.title('Distribution of {} and Target'.format(column))\n",
    "    plt.savefig(column+'.png')\n",
    "    plt.show()"
   ]
  },
  {
   "cell_type": "code",
   "execution_count": 180,
   "metadata": {},
   "outputs": [
    {
     "data": {
      "text/plain": [
       "['Education', 'Marital_Status', 'Country', 'label_Age']"
      ]
     },
     "execution_count": 180,
     "metadata": {},
     "output_type": "execute_result"
    }
   ],
   "source": [
    "col_profile= list(data.select_dtypes(['object']))\n",
    "col_profile"
   ]
  },
  {
   "cell_type": "code",
   "execution_count": 181,
   "metadata": {},
   "outputs": [
    {
     "data": {
      "image/png": "[encoded data removed]",
      "text/plain": [
       "<Figure size 432x288 with 1 Axes>"
      ]
     },
     "metadata": {
      "needs_background": "light"
     },
     "output_type": "display_data"
    },
    {
     "data": {
      "image/png": "[encoded data removed]",
      "text/plain": [
       "<Figure size 432x288 with 1 Axes>"
      ]
     },
     "metadata": {
      "needs_background": "light"
     },
     "output_type": "display_data"
    },
    {
     "data": {
      "image/png": "[encoded data removed]",
      "text/plain": [
       "<Figure size 432x288 with 1 Axes>"
      ]
     },
     "metadata": {
      "needs_background": "light"
     },
     "output_type": "display_data"
    },
    {
     "data": {
      "image/png": "[encoded data removed]",
      "text/plain": [
       "<Figure size 432x288 with 1 Axes>"
      ]
     },
     "metadata": {
      "needs_background": "light"
     },
     "output_type": "display_data"
    }
   ],
   "source": [
    "for i in col_profile:\n",
    "    plot_bar(i) "
   ]
  },
  {
   "cell_type": "code",
   "execution_count": 160,
   "metadata": {},
   "outputs": [],
   "source": [
    "#fungsi perhitungan perbandingan antara no : yes berdasarkan ration tiap clasifikasinya\n",
    "def perbandingan(column):\n",
    "    # count categorical values\n",
    "    no = data[data['Response'] == 0.0][column].value_counts()\n",
    "    yes = data[data['Response'] == 1.0][column].value_counts()\n",
    "    count = no/yes\n",
    "    profil = pd.DataFrame(count)\n",
    "    profil = profil.sort_values(by=[column])\n",
    "    print (profil)"
   ]
  },
  {
   "cell_type": "code",
   "execution_count": 161,
   "metadata": {},
   "outputs": [
    {
     "name": "stdout",
     "output_type": "stream",
     "text": [
      "Diurutkan berdasarkan kecendurungan respon yes(semakin atas semakin cenderung untuk yes)\n",
      "\n",
      "            Education\n",
      "PhD          3.811881\n",
      "Master       5.491228\n",
      "Graduation   6.414474\n",
      "2n Cycle     8.227273\n",
      "Basic       26.000000\n",
      "\n",
      "###########\n",
      "          Marital_Status\n",
      "Absurd          1.000000\n",
      "YOLO            1.000000\n",
      "Alone           2.000000\n",
      "Widow           3.052632\n",
      "Single          3.528302\n",
      "Divorced        3.833333\n",
      "Married         7.816327\n",
      "Together        8.666667\n",
      "\n",
      "###########\n",
      "       Country\n",
      "ME    0.500000\n",
      "SP    5.221591\n",
      "SA    5.480769\n",
      "AUS   5.956522\n",
      "CA    6.052632\n",
      "GER   6.058824\n",
      "US    7.384615\n",
      "IND  10.384615\n",
      "\n",
      "###########\n",
      "             label_Age\n",
      "Gen Z         3.642857\n",
      "Milenial      5.088889\n",
      "Baby Boomer   5.695652\n",
      "Gen X         6.137405\n",
      "Pre-Boomer    6.666667\n",
      "\n",
      "###########\n"
     ]
    }
   ],
   "source": [
    "print('Diurutkan berdasarkan kecendurungan respon yes(semakin atas semakin cenderung untuk yes)\\n')\n",
    "for i in col_profile:\n",
    "    perbandingan(i)\n",
    "    print('\\n###########')"
   ]
  },
  {
   "cell_type": "code",
   "execution_count": 163,
   "metadata": {},
   "outputs": [
    {
     "name": "stdout",
     "output_type": "stream",
     "text": [
      "Education\n",
      "2n Cycle      47633.190000\n",
      "Basic         20306.259259\n",
      "Graduation    52720.373656\n",
      "Master        52917.534247\n",
      "PhD           56145.313929\n",
      "Name: Income, dtype: float64 \n",
      "\n",
      "Marital_Status\n",
      "Absurd      72365.500000\n",
      "Alone       43789.000000\n",
      "Divorced    52834.228448\n",
      "Married     51724.978996\n",
      "Single      50995.350318\n",
      "Together    53245.534031\n",
      "Widow       56481.552632\n",
      "YOLO        48432.000000\n",
      "Name: Income, dtype: float64 \n",
      "\n",
      "Country\n",
      "AUS    51804.285714\n",
      "CA     53050.616541\n",
      "GER    52951.094828\n",
      "IND    49016.414966\n",
      "ME     57680.333333\n",
      "SA     54830.816024\n",
      "SP     51564.577310\n",
      "US     53218.373832\n",
      "Name: Income, dtype: float64 \n",
      "\n",
      "label_Age\n",
      "Baby Boomer    58432.332604\n",
      "Gen X          52765.136511\n",
      "Gen Z          51813.615385\n",
      "Milenial       47493.590406\n",
      "Pre-Boomer     49190.834061\n",
      "Name: Income, dtype: float64 \n",
      "\n"
     ]
    }
   ],
   "source": [
    "for i in data[['Education','Marital_Status','Country','label_Age']]:\n",
    "    a = data.groupby([i]).mean()['Income']\n",
    "    print (a,'\\n')"
   ]
  },
  {
   "cell_type": "markdown",
   "metadata": {},
   "source": [
    "**Kesimpulan Data Profil X Response**\n",
    ">*Education X Target:*\n",
    "*seseorang dengan education Phd lebih cenderung mudah untuk menerima penawaran/campaign, hal ini bisa disebabkan karena orang dengan gelar Phd cenderung memikirkan kebutuhan primer sehingga jika ada penawaran mengenai product kebutuhan primer, mereka akan ambil, Selain itu Rata-rata Income dari Cust Phd paling tinggi. dan yang paling cenderung untuk menolak campaign adalah orang-orang dengan pendidikan basic hal ini bisa disebabkan karena orang dengan pendidikan Basic memiliki rata-rata Income terendeh dibandingkan yang lain.\n",
    "\n",
    ">*Marital Status X Target:*\n",
    "*orang yang tinggal bersama-sama cenderung menolak campaign, padahal jika dilihat rata-rata Incomenya tinggi. ini perlu dilakukan observasi mendalam, apakah karna metode campaign yang kurang tepat sasaran atau alasan lain. \n",
    "\n",
    ">*Country X Target :*\n",
    "*Country ME sangat welcome dengan campaign yang diberikan oleh company karena lebih banyak yang merespon dibandingkan tidak hal ini menunjukkan bahwa campaign terakhir sangat berhail untuk diimplementasikan ke negara ME, dan Ind cenderung menolak campaign yang diberikan. Jika dilihat dari rata-rata Income country ME memang memiliki rata-rata paling tinggi dan IND memiliki rata-rata Income terendah.Hal ini bisa digunakan untuk evaluasi tentang metode campaign tiap negara, sehingga metode campaign yang dilakukan dapat dibedakan untuk setiap negara.\n",
    "\n",
    ">*Label Umur X target :*\n",
    "*Generasi Z cenderung mudah menerima campaign dibandingkan yang lain, hal ini bisa disebabkan karena orang-orang pada generasi Z(umur 24-36 thun) masih memiliki sifat konsumtif yang cukup tinggi"
   ]
  },
  {
   "cell_type": "markdown",
   "metadata": {},
   "source": [
    "**Hubungan setiap Campaign**"
   ]
  },
  {
   "cell_type": "code",
   "execution_count": 107,
   "metadata": {
    "scrolled": true
   },
   "outputs": [
    {
     "data": {
      "text/plain": [
       "<matplotlib.axes._subplots.AxesSubplot at 0x1cf3cce9b20>"
      ]
     },
     "execution_count": 107,
     "metadata": {},
     "output_type": "execute_result"
    },
    {
     "data": {
      "image/png": "[encoded data removed]",
      "text/plain": [
       "<Figure size 648x648 with 2 Axes>"
      ]
     },
     "metadata": {
      "needs_background": "light"
     },
     "output_type": "display_data"
    }
   ],
   "source": [
    "plt.figure(figsize=(9,9))\n",
    "sns.heatmap(data[['AcceptedCmp3','AcceptedCmp4','AcceptedCmp5','AcceptedCmp1','AcceptedCmp2','Response']].corr(),annot=True)"
   ]
  },
  {
   "cell_type": "code",
   "execution_count": 110,
   "metadata": {},
   "outputs": [
    {
     "data": {
      "text/html": [
       "<div>\n",
       "<style scoped>\n",
       "    .dataframe tbody tr th:only-of-type {\n",
       "        vertical-align: middle;\n",
       "    }\n",
       "\n",
       "    .dataframe tbody tr th {\n",
       "        vertical-align: top;\n",
       "    }\n",
       "\n",
       "    .dataframe thead th {\n",
       "        text-align: right;\n",
       "    }\n",
       "</style>\n",
       "<table border=\"1\" class=\"dataframe\">\n",
       "  <thead>\n",
       "    <tr style=\"text-align: right;\">\n",
       "      <th></th>\n",
       "      <th>ID</th>\n",
       "      <th>Year_Birth</th>\n",
       "      <th>Education</th>\n",
       "      <th>Marital_Status</th>\n",
       "      <th>Income</th>\n",
       "      <th>Kidhome</th>\n",
       "      <th>Teenhome</th>\n",
       "      <th>Dt_Customer</th>\n",
       "      <th>Recency</th>\n",
       "      <th>MntWines</th>\n",
       "      <th>...</th>\n",
       "      <th>NumWebVisitsMonth</th>\n",
       "      <th>AcceptedCmp3</th>\n",
       "      <th>AcceptedCmp4</th>\n",
       "      <th>AcceptedCmp5</th>\n",
       "      <th>AcceptedCmp1</th>\n",
       "      <th>AcceptedCmp2</th>\n",
       "      <th>Response</th>\n",
       "      <th>Complain</th>\n",
       "      <th>Country</th>\n",
       "      <th>Customer_Age</th>\n",
       "    </tr>\n",
       "  </thead>\n",
       "  <tbody>\n",
       "  </tbody>\n",
       "</table>\n",
       "<p>0 rows × 29 columns</p>\n",
       "</div>"
      ],
      "text/plain": [
       "Empty DataFrame\n",
       "Columns: [ID, Year_Birth, Education, Marital_Status, Income, Kidhome, Teenhome, Dt_Customer, Recency, MntWines, MntFruits, MntMeatProducts, MntFishProducts, MntSweetProducts, MntGoldProds, NumDealsPurchases, NumWebPurchases, NumCatalogPurchases, NumStorePurchases, NumWebVisitsMonth, AcceptedCmp3, AcceptedCmp4, AcceptedCmp5, AcceptedCmp1, AcceptedCmp2, Response, Complain, Country, Customer_Age]\n",
       "Index: []\n",
       "\n",
       "[0 rows x 29 columns]"
      ]
     },
     "execution_count": 110,
     "metadata": {},
     "output_type": "execute_result"
    }
   ],
   "source": [
    "data[(data['AcceptedCmp3']==1)&(data['AcceptedCmp4']==1)&(data['AcceptedCmp5']==1)&(data['AcceptedCmp1']==1)&(data['AcceptedCmp2']==1)&(data['Response']==1)]"
   ]
  },
  {
   "cell_type": "markdown",
   "metadata": {},
   "source": [
    "*Tidak Ada hubungan/korelasi antara setiap campaign. dan tidak ada member yang respon pada semua campaign. sehingga 5 campaign sebelumnya bisa di drop untuk fokus ke campaign terakhir*"
   ]
  },
  {
   "cell_type": "markdown",
   "metadata": {},
   "source": [
    "# SUMMARY"
   ]
  },
  {
   "cell_type": "markdown",
   "metadata": {},
   "source": [
    "Berdasarkan EDA yang telah dilakukan, dapat diambil beberapa insight untuk pengembangan perusahaan.\n",
    "\n",
    "**Hal Yang Dapat Dilakukan Oleh Perusahaan**\n",
    "1. Perusahaan dapat melakukan Campaign dengan metode seperti campaign terakhir untuk meningkatkan jumlah membership, mengingat pentingnya jumlah membership untuk Branding product dan perusahaan, serta untuk evaluasi product dan pelayanan.\n",
    "2. Perusahaan dapat mengambil tindakan untuk mensegmentasi member yang sudah bergabung untuk meningkatkan pelayanan dan kenyamanan customer, dan meningkatkan penjualan pada jangka panjang.\n",
    "\n",
    "**Campaign Untuk Meningkatkan Member**\n",
    "Perusahaan dapat menggunakan metode campaign terakhir untuk meningkatkan member, dimana jumlah member masih belum merata di setiap negaranya. dengan meratakan jumlah member di setiap Negara maka akan memudahkan perusahaan untuk meningkatkan penjualan.\n",
    "Selain itu dari setiap profile customer member masih belum merata seperti member yang bergelar Graduation lebih banyak dibandingkan yang basic. ini bisa digunakan sebagai catatan untuk pendekatan campaign.\n",
    "Perusahaan juga dapat menawarkan member kepada orang-orang dengan background Phd yang notabennya mudah menerima campaign.\n",
    "serta memberikan lebih banyak discount untuk new member dengan background pendidikan Basic. karena lebih cenderung menolak campaign.\n",
    "\n",
    "\n",
    "**Campaign Untuk Meningkatkan Penjualan**\n",
    "penjualan product masih belum merata, bahkan perbedaan jumlah penjualan sangat jauh. Solusinya bisa diterapkan beberapa discount mingguan untuk product-product yang kurang diminati. serta melakukan campaign manfaat dari product tersebut (pendekatan edukasi)\n",
    "contohnya seperti manfaat mengkonsumsi buah-buahan, ketika  setiap kalangan orang teredukasi dan mengetahui manfaatnya maka akan mempertimbangkan untuk membeli, dibandingkan yang tidak sama skali(menolak untuk membeli).\n",
    "Campaign penjualan product dapat disesuaikan dengan label umur, seperti orang-orang dengan label Baby boomer lebih cocok untuk ditawarkan product buah.Dan jika ingin melakukan campaign semua product ke satu generasi  maka target yang tepat adalah generasi Z yang berminat kepada semua product, dan masih memiliki sifat konsumtif.\n",
    "\n",
    "\n",
    "**Channel Performance**\n",
    "Perusahaan harus mulai meningkatkan ketertarikan customer di online store. karena pada era sekarang dunia sudah menjadi digital. apabila company terlambat maka dapat tertinggal dan kalah oleh pesaing. maka dari itu perusahaan harus memperkuat branding online, salah satu caranya dengan memberikan discount atau cashback ataupun freeongkir melalui online store.\n",
    "\n",
    "*Berdasarkan EDA diatas maka akan dilanjutkan ke tahap modelling dengan memprediksi calon konsumen yang akan merespon(mau menjadi member) melalui campaign perusahaan. Parameter yang digunakan adalah Profile dari konsumen, kapan terakhir beli product(recency) serta jumlah anak di rumah.*\n",
    "*Kemudian Untuk preprocessing, Marital_Status akan diringkas menjadi (Together,SIngle dan Other), karna ada yang tidak dapat diartikan seperti absurd*\n",
    "\n"
   ]
  },
  {
   "cell_type": "code",
   "execution_count": null,
   "metadata": {},
   "outputs": [],
   "source": []
  }
 ],
 "metadata": {
  "kernelspec": {
   "display_name": "Python 3",
   "language": "python",
   "name": "python3"
  },
  "language_info": {
   "codemirror_mode": {
    "name": "ipython",
    "version": 3
   },
   "file_extension": ".py",
   "mimetype": "text/x-python",
   "name": "python",
   "nbconvert_exporter": "python",
   "pygments_lexer": "ipython3",
   "version": "3.8.3"
  }
 },
 "nbformat": 4,
 "nbformat_minor": 4
}
